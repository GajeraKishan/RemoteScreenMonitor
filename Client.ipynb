{
 "cells": [
  {
   "cell_type": "code",
   "execution_count": null,
   "metadata": {},
   "outputs": [],
   "source": [
    "import socket                   # Import socket module\n",
    "from PIL import Image\n",
    "import pyautogui\n",
    "import time\n",
    "\n",
    "s = socket.socket()             # Create a socket object\n",
    "host = '192.168.43.25'#socket.gethostname()     # Get local machine name\n",
    "port = 60000                    # Reserve a port for your service.\n",
    "\n",
    "s.connect((host, port))\n",
    "s.send(\"sent\".encode())\n",
    "\n",
    "\n",
    "#pic = pyautogui.screenshot()\n",
    "#pic.save('Screenshot.png')\n",
    "#pic = Image.open('Screenshot.png')\n",
    "#pic.show()\n",
    "\n",
    "pic = pyautogui.screenshot()\n",
    "pic.save('Screenshot1.png')\n",
    "image = open(\"Screenshot1.png\", \"rb\")\n",
    "    \n",
    "print(\"Sending image data...\")\n",
    "while True:\n",
    "    data = image.readline(1024)\n",
    "    if not data:\n",
    "        break\n",
    "    s.send(data)\n",
    "\n",
    "print(\"Data has been sent!\")\n",
    "    \n",
    "#print(\"-------------------\")\n",
    "#time.sleep(3)\n",
    "#s.send(pic)\n",
    "#print('Done sending')\n",
    "\n",
    "s.close()\n",
    "print('connection closed')"
   ]
  },
  {
   "cell_type": "code",
   "execution_count": null,
   "metadata": {},
   "outputs": [],
   "source": []
  },
  {
   "cell_type": "code",
   "execution_count": null,
   "metadata": {},
   "outputs": [],
   "source": []
  },
  {
   "cell_type": "code",
   "execution_count": 1,
   "metadata": {},
   "outputs": [
    {
     "name": "stdout",
     "output_type": "stream",
     "text": [
      "Scrennshot requested\n",
      "Sending image data...\n",
      "Data has been sent!\n",
      "ENd\n",
      "connection closed\n"
     ]
    }
   ],
   "source": [
    "import socket                   # Import socket module\n",
    "from PIL import Image\n",
    "import pyautogui\n",
    "import time\n",
    "\n",
    "s = socket.socket()             # Create a socket object\n",
    "host = '192.168.43.25'#socket.gethostname()     # Get local machine name\n",
    "port = 60000                    # Reserve a port for your service.\n",
    "\n",
    "s.connect((host, port))\n",
    "s.send(\"sent\".encode())\n",
    "command = s.recv(1024)\n",
    "while command.decode() != 'E':\n",
    "    \n",
    "    if command.decode() == 'S':\n",
    "        print('Scrennshot requested')\n",
    "        #pic = pyautogui.screenshot()\n",
    "        #pic.save('Screenshot.png')\n",
    "        #pic = Image.open('Screenshot.png')\n",
    "        #pic.show()\n",
    "\n",
    "        pic = pyautogui.screenshot()\n",
    "        pic.save('Screenshot1.png')\n",
    "        image = open(\"Screenshot1.png\", \"rb\")\n",
    "\n",
    "        print(\"Sending image data...\")\n",
    "        while True:\n",
    "            data = image.readline(16384)\n",
    "            if not data:\n",
    "                break\n",
    "            s.send(data)\n",
    "            \n",
    "        print(\"Data has been sent!\")\n",
    "    command = s.recv(1024)\n",
    "print(\"ENd\")\n",
    "\n",
    "s.close()\n",
    "print('connection closed')"
   ]
  },
  {
   "cell_type": "code",
   "execution_count": null,
   "metadata": {},
   "outputs": [],
   "source": []
  }
 ],
 "metadata": {
  "kernelspec": {
   "display_name": "Python 3",
   "language": "python",
   "name": "python3"
  },
  "language_info": {
   "codemirror_mode": {
    "name": "ipython",
    "version": 3
   },
   "file_extension": ".py",
   "mimetype": "text/x-python",
   "name": "python",
   "nbconvert_exporter": "python",
   "pygments_lexer": "ipython3",
   "version": "3.6.5"
  }
 },
 "nbformat": 4,
 "nbformat_minor": 2
}
