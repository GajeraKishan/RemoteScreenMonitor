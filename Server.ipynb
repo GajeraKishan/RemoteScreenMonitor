{
 "cells": [
  {
   "cell_type": "code",
   "execution_count": 1,
   "metadata": {},
   "outputs": [
    {
     "name": "stdout",
     "output_type": "stream",
     "text": [
      "Server listening....\n",
      "Got connection from ('127.0.0.1', 59827)\n",
      "receiving data...\n",
      "Server received Hello server!\n",
      "Successfully got the file\n"
     ]
    }
   ],
   "source": [
    "import socket                   # Import socket module\n",
    "from PIL import Image\n",
    "port = 60000                    # Reserve a port for your service.\n",
    "s = socket.socket()             # Create a socket object\n",
    "host = socket.gethostname()     # Get local machine name\n",
    "s.bind((host, port))            # Bind to the port\n",
    "s.listen(5)                     # Now wait for client connection.\n",
    "\n",
    "print ('Server listening....')\n",
    "\n",
    "conn, addr = s.accept()     # Establish connection with client.\n",
    "print ('Got connection from', addr)\n",
    "print('receiving data...')\n",
    "\n",
    "data = conn.recv(1024)\n",
    "print('Server received', data)\n",
    "\n",
    "f = open('received_Screenshot.png', 'wb')\n",
    "\n",
    "while True:\n",
    "    data = conn.recv(1024)\n",
    "    if not data:\n",
    "        break\n",
    "    f.write(data)# write data to a file\n",
    "\n",
    "import matplotlib.image as mpimg\n",
    "\n",
    "f.close()  \n",
    "pic = Image.open(\"received_Screenshot.png\")\n",
    "pic.show()\n",
    "#print('Server received')\n",
    "      \n",
    "print('Successfully got the file')\n",
    "#conn.send('Thank you for connecting')\n",
    "conn.close()\n"
   ]
  },
  {
   "cell_type": "code",
   "execution_count": 2,
   "metadata": {},
   "outputs": [
    {
     "name": "stdout",
     "output_type": "stream",
     "text": [
      "Server listening....\n",
      "Got connection from ('127.0.0.1', 59980)\n",
      "receiving data...\n",
      "1.Screenshot\n",
      "2.End\n",
      "Enter Choice: 1\n"
     ]
    },
    {
     "ename": "ConnectionResetError",
     "evalue": "[WinError 10054] An existing connection was forcibly closed by the remote host",
     "output_type": "error",
     "traceback": [
      "\u001b[1;31m---------------------------------------------------------------------------\u001b[0m",
      "\u001b[1;31mConnectionResetError\u001b[0m                      Traceback (most recent call last)",
      "\u001b[1;32m<ipython-input-2-e2f281f1438e>\u001b[0m in \u001b[0;36m<module>\u001b[1;34m()\u001b[0m\n\u001b[0;32m     28\u001b[0m     \u001b[0mf\u001b[0m \u001b[1;33m=\u001b[0m \u001b[0mopen\u001b[0m\u001b[1;33m(\u001b[0m\u001b[1;34m'received_Screenshot2.png'\u001b[0m\u001b[1;33m,\u001b[0m \u001b[1;34m'wb'\u001b[0m\u001b[1;33m)\u001b[0m\u001b[1;33m\u001b[0m\u001b[0m\n\u001b[0;32m     29\u001b[0m     \u001b[1;32mwhile\u001b[0m \u001b[1;32mTrue\u001b[0m\u001b[1;33m:\u001b[0m\u001b[1;33m\u001b[0m\u001b[0m\n\u001b[1;32m---> 30\u001b[1;33m         \u001b[0mdata\u001b[0m \u001b[1;33m=\u001b[0m \u001b[0mconn\u001b[0m\u001b[1;33m.\u001b[0m\u001b[0mrecv\u001b[0m\u001b[1;33m(\u001b[0m\u001b[1;36m1024\u001b[0m\u001b[1;33m)\u001b[0m\u001b[1;33m\u001b[0m\u001b[0m\n\u001b[0m\u001b[0;32m     31\u001b[0m         \u001b[1;32mif\u001b[0m \u001b[1;32mnot\u001b[0m \u001b[0mdata\u001b[0m\u001b[1;33m:\u001b[0m\u001b[1;33m\u001b[0m\u001b[0m\n\u001b[0;32m     32\u001b[0m             \u001b[1;32mbreak\u001b[0m\u001b[1;33m\u001b[0m\u001b[0m\n",
      "\u001b[1;31mConnectionResetError\u001b[0m: [WinError 10054] An existing connection was forcibly closed by the remote host"
     ]
    }
   ],
   "source": [
    "import socket                   # Import socket module\n",
    "from PIL import Image\n",
    "port = 60000                    # Reserve a port for your service.\n",
    "s = socket.socket()             # Create a socket object\n",
    "host = socket.gethostname()     # Get local machine name\n",
    "s.bind((host, port))            # Bind to the port\n",
    "s.listen(5)                     # Now wait for client connection.\n",
    "\n",
    "print ('Server listening....')\n",
    "\n",
    "conn, addr = s.accept()     # Establish connection with client.\n",
    "print ('Got connection from', addr)\n",
    "print('receiving data...')\n",
    "\n",
    "while True:\n",
    "    print('1.Screenshot\\n2.End')\n",
    "    command = input(\"Enter Choice: \")\n",
    "    if command == '1':\n",
    "        conn.send('S'.encode())\n",
    "    else:\n",
    "        conn.send('E'.encode())\n",
    "        conn.close()\n",
    "        print ('Server listening....')\n",
    "        conn, addr = s.accept()     # Establish connection with client.\n",
    "        print ('Got connection from', addr)\n",
    "        print('receiving data...')\n",
    "    \n",
    "    f = open('received_Screenshot2.png', 'wb')\n",
    "    while True:\n",
    "        data = conn.recv(1024)\n",
    "        if not data:\n",
    "            break\n",
    "        f.write(data)# write data to a file\n",
    "\n",
    "    f.close() \n",
    "    #pic = Image.open(\"received_Screenshot1.png\")\n",
    "    #pic.show()\n",
    "    #print('Server received')\n",
    "         \n",
    "    print('Successfully got the file')\n",
    "\n"
   ]
  },
  {
   "cell_type": "code",
   "execution_count": null,
   "metadata": {},
   "outputs": [],
   "source": []
  }
 ],
 "metadata": {
  "kernelspec": {
   "display_name": "Python 3",
   "language": "python",
   "name": "python3"
  },
  "language_info": {
   "codemirror_mode": {
    "name": "ipython",
    "version": 3
   },
   "file_extension": ".py",
   "mimetype": "text/x-python",
   "name": "python",
   "nbconvert_exporter": "python",
   "pygments_lexer": "ipython3",
   "version": "3.6.5"
  }
 },
 "nbformat": 4,
 "nbformat_minor": 2
}
